{
 "cells": [
  {
   "cell_type": "code",
   "execution_count": 1,
   "id": "a70457e5",
   "metadata": {},
   "outputs": [
    {
     "name": "stdout",
     "output_type": "stream",
     "text": [
      "Jupyter environment detected. Enabling Open3D WebVisualizer.\n",
      "[Open3D INFO] WebRTC GUI backend enabled.\n",
      "[Open3D INFO] WebRTCWindowSystem: HTTP handshake server disabled.\n"
     ]
    }
   ],
   "source": [
    "import open3d as o3d\n",
    "import numpy as np"
   ]
  },
  {
   "cell_type": "code",
   "execution_count": 2,
   "id": "ad2467c8",
   "metadata": {},
   "outputs": [],
   "source": [
    "# pcd = o3d.io.read_point_cloud(\"copy_of_fragment.pcd\")\n",
    "pcd = o3d.io.read_point_cloud(\"100.pcd\")"
   ]
  },
  {
   "cell_type": "code",
   "execution_count": 3,
   "id": "a41d46d4",
   "metadata": {},
   "outputs": [
    {
     "data": {
      "text/plain": [
       "open3d.cpu.pybind.geometry.PointCloud"
      ]
     },
     "execution_count": 3,
     "metadata": {},
     "output_type": "execute_result"
    }
   ],
   "source": [
    "type(pcd)"
   ]
  },
  {
   "cell_type": "code",
   "execution_count": 4,
   "id": "d1735e6d",
   "metadata": {},
   "outputs": [
    {
     "name": "stdout",
     "output_type": "stream",
     "text": [
      "[[15.36563969 15.55634785  8.61662483]\n",
      " [15.37392426 15.46952248  8.59469318]\n",
      " [15.40156555 15.4025383   8.58372688]\n",
      " ...\n",
      " [ 2.88965464 -3.15517545 -1.61464429]\n",
      " [ 2.8843565  -3.16885209 -1.61717236]\n",
      " [ 2.87524676 -3.17837763 -1.61753345]]\n"
     ]
    }
   ],
   "source": [
    "print(np.asarray(pcd.points))"
   ]
  },
  {
   "cell_type": "code",
   "execution_count": 5,
   "id": "6bf84cfd",
   "metadata": {},
   "outputs": [],
   "source": [
    "o3d.visualization.draw_geometries([pcd])"
   ]
  },
  {
   "cell_type": "code",
   "execution_count": 6,
   "id": "ed3002c6",
   "metadata": {},
   "outputs": [
    {
     "data": {
      "text/plain": [
       "array([15.36563969, 15.55634785,  8.61662483])"
      ]
     },
     "execution_count": 6,
     "metadata": {},
     "output_type": "execute_result"
    }
   ],
   "source": [
    "pcd.points[0]"
   ]
  },
  {
   "cell_type": "code",
   "execution_count": 7,
   "id": "e1440904",
   "metadata": {},
   "outputs": [
    {
     "data": {
      "text/plain": [
       "std::vector<Eigen::Vector3d> with 75537 elements.\n",
       "Use numpy.asarray() to access data."
      ]
     },
     "execution_count": 7,
     "metadata": {},
     "output_type": "execute_result"
    }
   ],
   "source": [
    "pcd.points"
   ]
  },
  {
   "cell_type": "code",
   "execution_count": 8,
   "id": "259963bf",
   "metadata": {},
   "outputs": [
    {
     "data": {
      "text/plain": [
       "std::vector<Eigen::Vector3d> with 0 elements.\n",
       "Use numpy.asarray() to access data."
      ]
     },
     "execution_count": 8,
     "metadata": {},
     "output_type": "execute_result"
    }
   ],
   "source": [
    "pcd.colors"
   ]
  }
 ],
 "metadata": {
  "kernelspec": {
   "display_name": "Python 3 (ipykernel)",
   "language": "python",
   "name": "python3"
  },
  "language_info": {
   "codemirror_mode": {
    "name": "ipython",
    "version": 3
   },
   "file_extension": ".py",
   "mimetype": "text/x-python",
   "name": "python",
   "nbconvert_exporter": "python",
   "pygments_lexer": "ipython3",
   "version": "3.8.15"
  }
 },
 "nbformat": 4,
 "nbformat_minor": 5
}
