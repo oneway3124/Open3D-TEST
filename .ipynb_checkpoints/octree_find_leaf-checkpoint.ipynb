{
 "cells": [
  {
   "cell_type": "code",
   "execution_count": null,
   "id": "a70457e5",
   "metadata": {
    "pycharm": {
     "name": "#%%\n"
    }
   },
   "outputs": [],
   "source": [
    "import open3d as o3d\n",
    "import numpy as np\n",
    "\n",
    "if __name__ == \"__main__\":\n",
    "    N = 2000\n",
    "    armadillo_data = o3d.data.ArmadilloMesh()\n",
    "    pcd = o3d.io.read_triangle_mesh(\n",
    "        armadillo_data.path).sample_points_poisson_disk(N)\n",
    "    # Fit to unit cube.\n",
    "    pcd.scale(1 / np.max(pcd.get_max_bound() - pcd.get_min_bound()),\n",
    "              center=pcd.get_center())\n",
    "    pcd.colors = o3d.utility.Vector3dVector(np.random.uniform(0, 1,\n",
    "                                                              size=(N, 3)))\n",
    "\n",
    "    octree = o3d.geometry.Octree(max_depth=4)\n",
    "    octree.convert_from_point_cloud(pcd, size_expand=0.01)\n",
    "    print('Displaying input octree ...')\n",
    "    o3d.visualization.draw([octree])\n",
    "    print('Finding leaf node containing the first point of pointcloud ...')\n",
    "    print(octree.locate_leaf_node(pcd.points[0]))"
   ]
  }
 ],
 "metadata": {
  "kernelspec": {
   "display_name": "Python 3",
   "language": "python",
   "name": "python3"
  },
  "language_info": {
   "codemirror_mode": {
    "name": "ipython",
    "version": 3
   },
   "file_extension": ".py",
   "mimetype": "text/x-python",
   "name": "python",
   "nbconvert_exporter": "python",
   "pygments_lexer": "ipython3",
   "version": "3.6.13"
  }
 },
 "nbformat": 4,
 "nbformat_minor": 5
}
