{
 "cells": [
  {
   "cell_type": "code",
   "execution_count": 2,
   "id": "a70457e5",
   "metadata": {
    "pycharm": {
     "name": "#%%\n"
    }
   },
   "outputs": [],
   "source": [
    "import open3d as o3d\n",
    "import numpy as np\n",
    "\n"
   ]
  },
  {
   "cell_type": "code",
   "execution_count": 4,
   "id": "c3415e77",
   "metadata": {},
   "outputs": [],
   "source": [
    "pcd = o3d.io.read_point_cloud(\"100.pcd\")"
   ]
  },
  {
   "cell_type": "code",
   "execution_count": 7,
   "id": "e350d5ff",
   "metadata": {},
   "outputs": [
    {
     "name": "stdout",
     "output_type": "stream",
     "text": [
      "PointCloud with 75537 points.\n"
     ]
    }
   ],
   "source": [
    "print(pcd)"
   ]
  },
  {
   "cell_type": "code",
   "execution_count": 8,
   "id": "2ea943de",
   "metadata": {},
   "outputs": [
    {
     "data": {
      "text/plain": [
       "open3d.cpu.pybind.geometry.PointCloud"
      ]
     },
     "execution_count": 8,
     "metadata": {},
     "output_type": "execute_result"
    }
   ],
   "source": [
    "type(pcd)"
   ]
  },
  {
   "cell_type": "code",
   "execution_count": 11,
   "id": "d6bfcef0",
   "metadata": {},
   "outputs": [
    {
     "data": {
      "text/plain": [
       "std::vector<Eigen::Vector3d> with 0 elements.\n",
       "Use numpy.asarray() to access data."
      ]
     },
     "execution_count": 11,
     "metadata": {},
     "output_type": "execute_result"
    }
   ],
   "source": [
    "pcd.colors"
   ]
  },
  {
   "cell_type": "code",
   "execution_count": 15,
   "id": "926ca463",
   "metadata": {},
   "outputs": [
    {
     "name": "stdout",
     "output_type": "stream",
     "text": [
      "[[3918.23812008 3966.86870098 2197.2393322 ]\n",
      " [3920.35068512 3944.72823143 2191.64676189]\n",
      " [3927.3992157  3927.64726639 2188.85035515]\n",
      " ...\n",
      " [ 736.86193228 -804.5697391  -411.7342937 ]\n",
      " [ 735.51090717 -808.05728316 -412.37895191]\n",
      " [ 733.18792462 -810.48629522 -412.47102857]]\n"
     ]
    }
   ],
   "source": [
    "print(np.asarray(pcd.points))"
   ]
  },
  {
   "cell_type": "code",
   "execution_count": 16,
   "id": "8c2fa6f5",
   "metadata": {},
   "outputs": [
    {
     "name": "stdout",
     "output_type": "stream",
     "text": [
      "[]\n"
     ]
    }
   ],
   "source": [
    "print(np.asarray(pcd.colors)* 255)"
   ]
  }
 ],
 "metadata": {
  "kernelspec": {
   "display_name": "Python 3 (ipykernel)",
   "language": "python",
   "name": "python3"
  },
  "language_info": {
   "codemirror_mode": {
    "name": "ipython",
    "version": 3
   },
   "file_extension": ".py",
   "mimetype": "text/x-python",
   "name": "python",
   "nbconvert_exporter": "python",
   "pygments_lexer": "ipython3",
   "version": "3.8.15"
  }
 },
 "nbformat": 4,
 "nbformat_minor": 5
}
