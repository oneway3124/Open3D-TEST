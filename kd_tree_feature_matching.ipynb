{
 "cells": [
  {
   "cell_type": "code",
   "execution_count": null,
   "id": "a70457e5",
   "metadata": {
    "pycharm": {
     "name": "#%%\n"
    }
   },
   "outputs": [],
   "source": [
    "# ----------------------------------------------------------------------------\n",
    "# -                        Open3D: www.open3d.org                            -\n",
    "# ----------------------------------------------------------------------------\n",
    "# The MIT License (MIT)\n",
    "#\n",
    "# Copyright (c) 2018-2021 www.open3d.org\n",
    "#\n",
    "# Permission is hereby granted, free of charge, to any person obtaining a copy\n",
    "# of this software and associated documentation files (the \"Software\"), to deal\n",
    "# in the Software without restriction, including without limitation the rights\n",
    "# to use, copy, modify, merge, publish, distribute, sublicense, and/or sell\n",
    "# copies of the Software, and to permit persons to whom the Software is\n",
    "# furnished to do so, subject to the following conditions:\n",
    "#\n",
    "# The above copyright notice and this permission notice shall be included in\n",
    "# all copies or substantial portions of the Software.\n",
    "#\n",
    "# THE SOFTWARE IS PROVIDED \"AS IS\", WITHOUT WARRANTY OF ANY KIND, EXPRESS OR\n",
    "# IMPLIED, INCLUDING BUT NOT LIMITED TO THE WARRANTIES OF MERCHANTABILITY,\n",
    "# FITNESS FOR A PARTICULAR PURPOSE AND NONINFRINGEMENT. IN NO EVENT SHALL THE\n",
    "# AUTHORS OR COPYRIGHT HOLDERS BE LIABLE FOR ANY CLAIM, DAMAGES OR OTHER\n",
    "# LIABILITY, WHETHER IN AN ACTION OF CONTRACT, TORT OR OTHERWISE, ARISING\n",
    "# FROM, OUT OF OR IN CONNECTION WITH THE SOFTWARE OR THE USE OR OTHER DEALINGS\n",
    "# IN THE SOFTWARE.\n",
    "# ----------------------------------------------------------------------------\n",
    "\n",
    "import numpy as np\n",
    "import open3d as o3d\n",
    "\n",
    "if __name__ == \"__main__\":\n",
    "\n",
    "    print(\"Load two aligned point clouds.\")\n",
    "    demo_data = o3d.data.DemoFeatureMatchingPointClouds()\n",
    "    pcd0 = o3d.io.read_point_cloud(demo_data.point_cloud_paths[0])\n",
    "    pcd1 = o3d.io.read_point_cloud(demo_data.point_cloud_paths[1])\n",
    "\n",
    "    pcd0.paint_uniform_color([1, 0.706, 0])\n",
    "    pcd1.paint_uniform_color([0, 0.651, 0.929])\n",
    "    o3d.visualization.draw_geometries([pcd0, pcd1])\n",
    "    print(\"Load their FPFH feature and evaluate.\")\n",
    "    print(\"Black : matching distance > 0.2\")\n",
    "    print(\"White : matching distance = 0\")\n",
    "    feature0 = o3d.io.read_feature(demo_data.fpfh_feature_paths[0])\n",
    "    feature1 = o3d.io.read_feature(demo_data.fpfh_feature_paths[1])\n",
    "\n",
    "    fpfh_tree = o3d.geometry.KDTreeFlann(feature1)\n",
    "    for i in range(len(pcd0.points)):\n",
    "        [_, idx, _] = fpfh_tree.search_knn_vector_xd(feature0.data[:, i], 1)\n",
    "        dis = np.linalg.norm(pcd0.points[i] - pcd1.points[idx[0]])\n",
    "        c = (0.2 - np.fmin(dis, 0.2)) / 0.2\n",
    "        pcd0.colors[i] = [c, c, c]\n",
    "    o3d.visualization.draw_geometries([pcd0])\n",
    "    print(\"\")\n",
    "\n",
    "    print(\"Load their L32D feature and evaluate.\")\n",
    "    print(\"Black : matching distance > 0.2\")\n",
    "    print(\"White : matching distance = 0\")\n",
    "    feature0 = o3d.io.read_feature(demo_data.l32d_feature_paths[0])\n",
    "    feature1 = o3d.io.read_feature(demo_data.l32d_feature_paths[1])\n",
    "\n",
    "    fpfh_tree = o3d.geometry.KDTreeFlann(feature1)\n",
    "    for i in range(len(pcd0.points)):\n",
    "        [_, idx, _] = fpfh_tree.search_knn_vector_xd(feature0.data[:, i], 1)\n",
    "        dis = np.linalg.norm(pcd0.points[i] - pcd1.points[idx[0]])\n",
    "        c = (0.2 - np.fmin(dis, 0.2)) / 0.2\n",
    "        pcd0.colors[i] = [c, c, c]\n",
    "    o3d.visualization.draw_geometries([pcd0])\n",
    "    print(\"\")"
   ]
  }
 ],
 "metadata": {
  "kernelspec": {
   "display_name": "Python 3",
   "language": "python",
   "name": "python3"
  },
  "language_info": {
   "codemirror_mode": {
    "name": "ipython",
    "version": 3
   },
   "file_extension": ".py",
   "mimetype": "text/x-python",
   "name": "python",
   "nbconvert_exporter": "python",
   "pygments_lexer": "ipython3",
   "version": "3.6.13"
  }
 },
 "nbformat": 4,
 "nbformat_minor": 5
}