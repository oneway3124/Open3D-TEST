{
 "cells": [
  {
   "cell_type": "code",
   "execution_count": 1,
   "id": "a70457e5",
   "metadata": {
    "pycharm": {
     "name": "#%%\n"
    }
   },
   "outputs": [
    {
     "ename": "ModuleNotFoundError",
     "evalue": "No module named 'matplotlib'",
     "output_type": "error",
     "traceback": [
      "\u001b[1;31m---------------------------------------------------------------------------\u001b[0m",
      "\u001b[1;31mModuleNotFoundError\u001b[0m                       Traceback (most recent call last)",
      "Cell \u001b[1;32mIn [1], line 28\u001b[0m\n\u001b[0;32m      1\u001b[0m \u001b[38;5;66;03m# ----------------------------------------------------------------------------\u001b[39;00m\n\u001b[0;32m      2\u001b[0m \u001b[38;5;66;03m# -                        Open3D: www.open3d.org                            -\u001b[39;00m\n\u001b[0;32m      3\u001b[0m \u001b[38;5;66;03m# ----------------------------------------------------------------------------\u001b[39;00m\n\u001b[1;32m   (...)\u001b[0m\n\u001b[0;32m     24\u001b[0m \u001b[38;5;66;03m# IN THE SOFTWARE.\u001b[39;00m\n\u001b[0;32m     25\u001b[0m \u001b[38;5;66;03m# ----------------------------------------------------------------------------\u001b[39;00m\n\u001b[0;32m     27\u001b[0m \u001b[38;5;28;01mimport\u001b[39;00m \u001b[38;5;21;01mnumpy\u001b[39;00m \u001b[38;5;28;01mas\u001b[39;00m \u001b[38;5;21;01mnp\u001b[39;00m\n\u001b[1;32m---> 28\u001b[0m \u001b[38;5;28;01mimport\u001b[39;00m \u001b[38;5;21;01mmatplotlib\u001b[39;00m\u001b[38;5;21;01m.\u001b[39;00m\u001b[38;5;21;01mpyplot\u001b[39;00m \u001b[38;5;28;01mas\u001b[39;00m \u001b[38;5;21;01mplt\u001b[39;00m\n\u001b[0;32m     29\u001b[0m \u001b[38;5;28;01mimport\u001b[39;00m \u001b[38;5;21;01mmatplotlib\u001b[39;00m\u001b[38;5;21;01m.\u001b[39;00m\u001b[38;5;21;01mimage\u001b[39;00m \u001b[38;5;28;01mas\u001b[39;00m \u001b[38;5;21;01mmpimg\u001b[39;00m\n\u001b[0;32m     31\u001b[0m \u001b[38;5;28;01mimport\u001b[39;00m \u001b[38;5;21;01mopen3d\u001b[39;00m \u001b[38;5;28;01mas\u001b[39;00m \u001b[38;5;21;01mo3d\u001b[39;00m\n",
      "\u001b[1;31mModuleNotFoundError\u001b[0m: No module named 'matplotlib'"
     ]
    }
   ],
   "source": [
    "# ----------------------------------------------------------------------------\n",
    "# -                        Open3D: www.open3d.org                            -\n",
    "# ----------------------------------------------------------------------------\n",
    "# The MIT License (MIT)\n",
    "#\n",
    "# Copyright (c) 2018-2021 www.open3d.org\n",
    "#\n",
    "# Permission is hereby granted, free of charge, to any person obtaining a copy\n",
    "# of this software and associated documentation files (the \"Software\"), to deal\n",
    "# in the Software without restriction, including without limitation the rights\n",
    "# to use, copy, modify, merge, publish, distribute, sublicense, and/or sell\n",
    "# copies of the Software, and to permit persons to whom the Software is\n",
    "# furnished to do so, subject to the following conditions:\n",
    "#\n",
    "# The above copyright notice and this permission notice shall be included in\n",
    "# all copies or substantial portions of the Software.\n",
    "#\n",
    "# THE SOFTWARE IS PROVIDED \"AS IS\", WITHOUT WARRANTY OF ANY KIND, EXPRESS OR\n",
    "# IMPLIED, INCLUDING BUT NOT LIMITED TO THE WARRANTIES OF MERCHANTABILITY,\n",
    "# FITNESS FOR A PARTICULAR PURPOSE AND NONINFRINGEMENT. IN NO EVENT SHALL THE\n",
    "# AUTHORS OR COPYRIGHT HOLDERS BE LIABLE FOR ANY CLAIM, DAMAGES OR OTHER\n",
    "# LIABILITY, WHETHER IN AN ACTION OF CONTRACT, TORT OR OTHERWISE, ARISING\n",
    "# FROM, OUT OF OR IN CONNECTION WITH THE SOFTWARE OR THE USE OR OTHER DEALINGS\n",
    "# IN THE SOFTWARE.\n",
    "# ----------------------------------------------------------------------------\n",
    "\n",
    "import numpy as np\n",
    "import matplotlib.pyplot as plt\n",
    "import matplotlib.image as mpimg\n",
    "\n",
    "import open3d as o3d\n",
    "#conda install pillow matplotlib\n",
    "\n",
    "if __name__ == \"__main__\":\n",
    "\n",
    "    print(\"Testing image in open3d ...\")\n",
    "    print(\"Convert an image to numpy\")\n",
    "    sample_image = o3d.data.JuneauImage()\n",
    "    x = o3d.io.read_image(sample_image.path)\n",
    "    print(np.asarray(x))\n",
    "    print(\n",
    "        \"Convet a numpy image to o3d.geometry.Image and show it with DrawGeomtries().\"\n",
    "    )\n",
    "    y = mpimg.imread(sample_image.path)\n",
    "    print(y.shape)\n",
    "    yy = o3d.geometry.Image(y)\n",
    "    print(yy)\n",
    "    o3d.visualization.draw_geometries([yy])\n",
    "\n",
    "    print(\"Render a channel of the previous image.\")\n",
    "    z = np.array(y[:, :, 1])\n",
    "    print(z.shape)\n",
    "    print(z.strides)\n",
    "    zz = o3d.geometry.Image(z)\n",
    "    print(zz)\n",
    "    o3d.visualization.draw_geometries([zz])\n",
    "\n",
    "    print(\"Write the previous image to file.\")\n",
    "    o3d.io.write_image(\"test.jpg\", zz, quality=100)\n",
    "\n",
    "    print(\"Testing basic image processing module.\")\n",
    "    sample_image = o3d.data.JuneauImage()\n",
    "    im_raw = mpimg.imread(sample_image.path)\n",
    "    im = o3d.geometry.Image(im_raw)\n",
    "    im_g3 = im.filter(o3d.geometry.ImageFilterType.Gaussian3)\n",
    "    im_g5 = im.filter(o3d.geometry.ImageFilterType.Gaussian5)\n",
    "    im_g7 = im.filter(o3d.geometry.ImageFilterType.Gaussian7)\n",
    "    im_gaussian = [im, im_g3, im_g5, im_g7]\n",
    "    pyramid_levels = 4\n",
    "    pyramid_with_gaussian_filter = True\n",
    "    im_pyramid = im.create_pyramid(pyramid_levels, pyramid_with_gaussian_filter)\n",
    "    im_dx = im.filter(o3d.geometry.ImageFilterType.Sobel3dx)\n",
    "    im_dx_pyramid = o3d.geometry.Image.filter_pyramid(\n",
    "        im_pyramid, o3d.geometry.ImageFilterType.Sobel3dx)\n",
    "    im_dy = im.filter(o3d.geometry.ImageFilterType.Sobel3dy)\n",
    "    im_dy_pyramid = o3d.geometry.Image.filter_pyramid(\n",
    "        im_pyramid, o3d.geometry.ImageFilterType.Sobel3dy)\n",
    "    switcher = {\n",
    "        0: im_gaussian,\n",
    "        1: im_pyramid,\n",
    "        2: im_dx_pyramid,\n",
    "        3: im_dy_pyramid,\n",
    "    }\n",
    "    for i in range(4):\n",
    "        for j in range(pyramid_levels):\n",
    "            plt.subplot(4, pyramid_levels, i * 4 + j + 1)\n",
    "            plt.imshow(switcher.get(i)[j])\n",
    "    plt.show()"
   ]
  }
 ],
 "metadata": {
  "kernelspec": {
   "display_name": "Python 3 (ipykernel)",
   "language": "python",
   "name": "python3"
  },
  "language_info": {
   "codemirror_mode": {
    "name": "ipython",
    "version": 3
   },
   "file_extension": ".py",
   "mimetype": "text/x-python",
   "name": "python",
   "nbconvert_exporter": "python",
   "pygments_lexer": "ipython3",
   "version": "3.8.15"
  }
 },
 "nbformat": 4,
 "nbformat_minor": 5
}
